{
 "cells": [
  {
   "cell_type": "code",
   "execution_count": 1,
   "id": "35f6f50e",
   "metadata": {
    "_cell_guid": "b1076dfc-b9ad-4769-8c92-a6c4dae69d19",
    "_uuid": "8f2839f25d086af736a60e9eeb907d3b93b6e0e5",
    "execution": {
     "iopub.execute_input": "2022-01-18T18:10:07.036408Z",
     "iopub.status.busy": "2022-01-18T18:10:07.035142Z",
     "iopub.status.idle": "2022-01-18T18:10:14.662943Z",
     "shell.execute_reply": "2022-01-18T18:10:14.661752Z",
     "shell.execute_reply.started": "2022-01-18T18:04:21.462863Z"
    },
    "papermill": {
     "duration": 7.650053,
     "end_time": "2022-01-18T18:10:14.663140",
     "exception": false,
     "start_time": "2022-01-18T18:10:07.013087",
     "status": "completed"
    },
    "tags": []
   },
   "outputs": [],
   "source": [
    "import os\n",
    "import pandas as pd\n",
    "import numpy as np\n",
    "from PIL import Image\n",
    "\n",
    "from sklearn.model_selection import train_test_split\n",
    "from sklearn.metrics import mean_squared_error\n",
    "from sklearn.utils import shuffle\n",
    "\n",
    "import tensorflow as tf\n",
    "from tensorflow import keras\n",
    "from tensorflow.keras.models import Sequential\n",
    "from tensorflow.keras.layers import Activation,Dense\n",
    "from tensorflow.keras.optimizers import Adam\n",
    "from tensorflow.keras.metrics import categorical_crossentropy"
   ]
  },
  {
   "cell_type": "markdown",
   "id": "67908a3a",
   "metadata": {
    "papermill": {
     "duration": 0.015734,
     "end_time": "2022-01-18T18:10:14.695060",
     "exception": false,
     "start_time": "2022-01-18T18:10:14.679326",
     "status": "completed"
    },
    "tags": []
   },
   "source": [
    "# Loading data to data-frame"
   ]
  },
  {
   "cell_type": "code",
   "execution_count": 2,
   "id": "be606c8e",
   "metadata": {
    "execution": {
     "iopub.execute_input": "2022-01-18T18:10:14.729934Z",
     "iopub.status.busy": "2022-01-18T18:10:14.729211Z",
     "iopub.status.idle": "2022-01-18T18:10:20.545438Z",
     "shell.execute_reply": "2022-01-18T18:10:20.544492Z",
     "shell.execute_reply.started": "2022-01-18T18:04:21.581751Z"
    },
    "papermill": {
     "duration": 5.834853,
     "end_time": "2022-01-18T18:10:20.545611",
     "exception": false,
     "start_time": "2022-01-18T18:10:14.710758",
     "status": "completed"
    },
    "tags": []
   },
   "outputs": [],
   "source": [
    "train_folder = '/kaggle/input/digit-recognizer/train.csv'\n",
    "test_folder = '/kaggle/input/digit-recognizer/test.csv'\n",
    "\n",
    "train = pd.read_csv(train_folder)\n",
    "test = pd.read_csv(test_folder)"
   ]
  },
  {
   "cell_type": "markdown",
   "id": "9a85a171",
   "metadata": {
    "papermill": {
     "duration": 0.01572,
     "end_time": "2022-01-18T18:10:20.577415",
     "exception": false,
     "start_time": "2022-01-18T18:10:20.561695",
     "status": "completed"
    },
    "tags": []
   },
   "source": [
    "# Dividing label"
   ]
  },
  {
   "cell_type": "code",
   "execution_count": 3,
   "id": "b19c576d",
   "metadata": {
    "execution": {
     "iopub.execute_input": "2022-01-18T18:10:20.619167Z",
     "iopub.status.busy": "2022-01-18T18:10:20.618441Z",
     "iopub.status.idle": "2022-01-18T18:10:20.711030Z",
     "shell.execute_reply": "2022-01-18T18:10:20.710333Z",
     "shell.execute_reply.started": "2022-01-18T18:04:26.871595Z"
    },
    "papermill": {
     "duration": 0.118171,
     "end_time": "2022-01-18T18:10:20.711182",
     "exception": false,
     "start_time": "2022-01-18T18:10:20.593011",
     "status": "completed"
    },
    "tags": []
   },
   "outputs": [],
   "source": [
    "label = train.label\n",
    "train.drop('label', axis=1, inplace=True, errors='ignore')"
   ]
  },
  {
   "cell_type": "markdown",
   "id": "d12a2f07",
   "metadata": {
    "papermill": {
     "duration": 0.017696,
     "end_time": "2022-01-18T18:10:20.744705",
     "exception": false,
     "start_time": "2022-01-18T18:10:20.727009",
     "status": "completed"
    },
    "tags": []
   },
   "source": [
    "# Converting pandas to numpy"
   ]
  },
  {
   "cell_type": "code",
   "execution_count": 4,
   "id": "5212c46a",
   "metadata": {
    "execution": {
     "iopub.execute_input": "2022-01-18T18:10:20.784219Z",
     "iopub.status.busy": "2022-01-18T18:10:20.783408Z",
     "iopub.status.idle": "2022-01-18T18:10:20.785512Z",
     "shell.execute_reply": "2022-01-18T18:10:20.786177Z",
     "shell.execute_reply.started": "2022-01-18T18:04:27.029494Z"
    },
    "papermill": {
     "duration": 0.02462,
     "end_time": "2022-01-18T18:10:20.786413",
     "exception": false,
     "start_time": "2022-01-18T18:10:20.761793",
     "status": "completed"
    },
    "tags": []
   },
   "outputs": [],
   "source": [
    "X = train.to_numpy()\n",
    "y = label.to_numpy()"
   ]
  },
  {
   "cell_type": "markdown",
   "id": "a86bed3d",
   "metadata": {
    "papermill": {
     "duration": 0.01529,
     "end_time": "2022-01-18T18:10:20.818568",
     "exception": false,
     "start_time": "2022-01-18T18:10:20.803278",
     "status": "completed"
    },
    "tags": []
   },
   "source": [
    "# Shuffling data"
   ]
  },
  {
   "cell_type": "code",
   "execution_count": 5,
   "id": "35852660",
   "metadata": {
    "execution": {
     "iopub.execute_input": "2022-01-18T18:10:20.853588Z",
     "iopub.status.busy": "2022-01-18T18:10:20.852891Z",
     "iopub.status.idle": "2022-01-18T18:10:21.271722Z",
     "shell.execute_reply": "2022-01-18T18:10:21.271080Z",
     "shell.execute_reply.started": "2022-01-18T18:04:27.041336Z"
    },
    "papermill": {
     "duration": 0.437696,
     "end_time": "2022-01-18T18:10:21.271887",
     "exception": false,
     "start_time": "2022-01-18T18:10:20.834191",
     "status": "completed"
    },
    "tags": []
   },
   "outputs": [],
   "source": [
    "X, y = shuffle(X, y, random_state=0)"
   ]
  },
  {
   "cell_type": "markdown",
   "id": "97599a00",
   "metadata": {
    "papermill": {
     "duration": 0.016002,
     "end_time": "2022-01-18T18:10:21.304682",
     "exception": false,
     "start_time": "2022-01-18T18:10:21.288680",
     "status": "completed"
    },
    "tags": []
   },
   "source": [
    "# Model creation"
   ]
  },
  {
   "cell_type": "code",
   "execution_count": 6,
   "id": "da796674",
   "metadata": {
    "execution": {
     "iopub.execute_input": "2022-01-18T18:10:21.342591Z",
     "iopub.status.busy": "2022-01-18T18:10:21.341712Z",
     "iopub.status.idle": "2022-01-18T18:10:21.471805Z",
     "shell.execute_reply": "2022-01-18T18:10:21.472392Z",
     "shell.execute_reply.started": "2022-01-18T18:04:27.755780Z"
    },
    "papermill": {
     "duration": 0.152168,
     "end_time": "2022-01-18T18:10:21.472578",
     "exception": false,
     "start_time": "2022-01-18T18:10:21.320410",
     "status": "completed"
    },
    "tags": []
   },
   "outputs": [
    {
     "name": "stderr",
     "output_type": "stream",
     "text": [
      "\n",
      "User settings:\n",
      "\n",
      "   KMP_AFFINITY=granularity=fine,verbose,compact,1,0\n",
      "   KMP_BLOCKTIME=0\n",
      "   KMP_DUPLICATE_LIB_OK=True\n",
      "   KMP_INIT_AT_FORK=FALSE\n",
      "   KMP_SETTINGS=1\n",
      "   KMP_WARNINGS=0\n",
      "\n",
      "Effective settings:\n",
      "\n",
      "   KMP_ABORT_DELAY=0\n",
      "   KMP_ADAPTIVE_LOCK_PROPS='1,1024'\n",
      "   KMP_ALIGN_ALLOC=64\n",
      "   KMP_ALL_THREADPRIVATE=128\n",
      "   KMP_ATOMIC_MODE=2\n",
      "   KMP_BLOCKTIME=0\n",
      "   KMP_CPUINFO_FILE: value is not defined\n",
      "   KMP_DETERMINISTIC_REDUCTION=false\n",
      "   KMP_DEVICE_THREAD_LIMIT=2147483647\n",
      "   KMP_DISP_NUM_BUFFERS=7\n",
      "   KMP_DUPLICATE_LIB_OK=true\n",
      "   KMP_ENABLE_TASK_THROTTLING=true\n",
      "   KMP_FORCE_REDUCTION: value is not defined\n",
      "   KMP_FOREIGN_THREADS_THREADPRIVATE=true\n",
      "   KMP_FORKJOIN_BARRIER='2,2'\n",
      "   KMP_FORKJOIN_BARRIER_PATTERN='hyper,hyper'\n",
      "   KMP_GTID_MODE=3\n",
      "   KMP_HANDLE_SIGNALS=false\n",
      "   KMP_HOT_TEAMS_MAX_LEVEL=1\n",
      "   KMP_HOT_TEAMS_MODE=0\n",
      "   KMP_INIT_AT_FORK=true\n",
      "   KMP_LIBRARY=throughput\n",
      "   KMP_LOCK_KIND=queuing\n",
      "   KMP_MALLOC_POOL_INCR=1M\n",
      "   KMP_NUM_LOCKS_IN_BLOCK=1\n",
      "   KMP_PLAIN_BARRIER='2,2'\n",
      "   KMP_PLAIN_BARRIER_PATTERN='hyper,hyper'\n",
      "   KMP_REDUCTION_BARRIER='1,1'\n",
      "   KMP_REDUCTION_BARRIER_PATTERN='hyper,hyper'\n",
      "   KMP_SCHEDULE='static,balanced;guided,iterative'\n",
      "   KMP_SETTINGS=true\n",
      "   KMP_SPIN_BACKOFF_PARAMS='4096,100'\n",
      "   KMP_STACKOFFSET=64\n",
      "   KMP_STACKPAD=0\n",
      "   KMP_STACKSIZE=8M\n",
      "   KMP_STORAGE_MAP=false\n",
      "   KMP_TASKING=2\n",
      "   KMP_TASKLOOP_MIN_TASKS=0\n",
      "   KMP_TASK_STEALING_CONSTRAINT=1\n",
      "   KMP_TEAMS_THREAD_LIMIT=4\n",
      "   KMP_TOPOLOGY_METHOD=all\n",
      "   KMP_USE_YIELD=1\n",
      "   KMP_VERSION=false\n",
      "   KMP_WARNINGS=false\n",
      "   OMP_AFFINITY_FORMAT='OMP: pid %P tid %i thread %n bound to OS proc set {%A}'\n",
      "   OMP_ALLOCATOR=omp_default_mem_alloc\n",
      "   OMP_CANCELLATION=false\n",
      "   OMP_DEFAULT_DEVICE=0\n",
      "   OMP_DISPLAY_AFFINITY=false\n",
      "   OMP_DISPLAY_ENV=false\n",
      "   OMP_DYNAMIC=false\n",
      "   OMP_MAX_ACTIVE_LEVELS=1\n",
      "   OMP_MAX_TASK_PRIORITY=0\n",
      "   OMP_NESTED: deprecated; max-active-levels-var=1\n",
      "   OMP_NUM_THREADS: value is not defined\n",
      "   OMP_PLACES: value is not defined\n",
      "   OMP_PROC_BIND='intel'\n",
      "   OMP_SCHEDULE='static'\n",
      "   OMP_STACKSIZE=8M\n",
      "   OMP_TARGET_OFFLOAD=DEFAULT\n",
      "   OMP_THREAD_LIMIT=2147483647\n",
      "   OMP_WAIT_POLICY=PASSIVE\n",
      "   KMP_AFFINITY='verbose,warnings,respect,granularity=fine,compact,1,0'\n",
      "\n",
      "2022-01-18 18:10:21.388602: I tensorflow/core/common_runtime/process_util.cc:146] Creating new thread pool with default inter op setting: 2. Tune using inter_op_parallelism_threads for best performance.\n"
     ]
    }
   ],
   "source": [
    "model = Sequential(\n",
    "    [\n",
    "        Dense(units=392, input_shape=(784,), activation='relu'),\n",
    "        Dense(units=10, activation='softmax')\n",
    "    ]\n",
    ")"
   ]
  },
  {
   "cell_type": "code",
   "execution_count": 7,
   "id": "2ca39c7c",
   "metadata": {
    "execution": {
     "iopub.execute_input": "2022-01-18T18:10:21.508490Z",
     "iopub.status.busy": "2022-01-18T18:10:21.507782Z",
     "iopub.status.idle": "2022-01-18T18:10:21.514601Z",
     "shell.execute_reply": "2022-01-18T18:10:21.515150Z",
     "shell.execute_reply.started": "2022-01-18T18:04:27.801650Z"
    },
    "papermill": {
     "duration": 0.026358,
     "end_time": "2022-01-18T18:10:21.515386",
     "exception": false,
     "start_time": "2022-01-18T18:10:21.489028",
     "status": "completed"
    },
    "tags": []
   },
   "outputs": [
    {
     "name": "stdout",
     "output_type": "stream",
     "text": [
      "Model: \"sequential\"\n",
      "_________________________________________________________________\n",
      "Layer (type)                 Output Shape              Param #   \n",
      "=================================================================\n",
      "dense (Dense)                (None, 392)               307720    \n",
      "_________________________________________________________________\n",
      "dense_1 (Dense)              (None, 10)                3930      \n",
      "=================================================================\n",
      "Total params: 311,650\n",
      "Trainable params: 311,650\n",
      "Non-trainable params: 0\n",
      "_________________________________________________________________\n"
     ]
    }
   ],
   "source": [
    "model.summary()"
   ]
  },
  {
   "cell_type": "code",
   "execution_count": 8,
   "id": "e06fdf79",
   "metadata": {
    "execution": {
     "iopub.execute_input": "2022-01-18T18:10:21.558788Z",
     "iopub.status.busy": "2022-01-18T18:10:21.557979Z",
     "iopub.status.idle": "2022-01-18T18:10:21.571472Z",
     "shell.execute_reply": "2022-01-18T18:10:21.572135Z",
     "shell.execute_reply.started": "2022-01-18T18:04:27.814342Z"
    },
    "papermill": {
     "duration": 0.037128,
     "end_time": "2022-01-18T18:10:21.572314",
     "exception": false,
     "start_time": "2022-01-18T18:10:21.535186",
     "status": "completed"
    },
    "tags": []
   },
   "outputs": [],
   "source": [
    "model.compile(optimizer=Adam(learning_rate=0.0001), loss='sparse_categorical_crossentropy', metrics=['accuracy'])"
   ]
  },
  {
   "cell_type": "code",
   "execution_count": 9,
   "id": "3e1bfabc",
   "metadata": {
    "execution": {
     "iopub.execute_input": "2022-01-18T18:10:21.610106Z",
     "iopub.status.busy": "2022-01-18T18:10:21.609415Z",
     "iopub.status.idle": "2022-01-18T18:10:48.664022Z",
     "shell.execute_reply": "2022-01-18T18:10:48.664574Z",
     "shell.execute_reply.started": "2022-01-18T18:08:35.498441Z"
    },
    "papermill": {
     "duration": 27.075715,
     "end_time": "2022-01-18T18:10:48.664757",
     "exception": false,
     "start_time": "2022-01-18T18:10:21.589042",
     "status": "completed"
    },
    "tags": []
   },
   "outputs": [
    {
     "name": "stderr",
     "output_type": "stream",
     "text": [
      "2022-01-18 18:10:21.883487: I tensorflow/compiler/mlir/mlir_graph_optimization_pass.cc:185] None of the MLIR Optimization Passes are enabled (registered 2)\n"
     ]
    },
    {
     "name": "stdout",
     "output_type": "stream",
     "text": [
      "Epoch 1/10\n",
      "756/756 - 3s - loss: 10.0667 - accuracy: 0.8088 - val_loss: 4.0237 - val_accuracy: 0.8855\n",
      "Epoch 2/10\n",
      "756/756 - 3s - loss: 2.5983 - accuracy: 0.9175 - val_loss: 2.8226 - val_accuracy: 0.9140\n",
      "Epoch 3/10\n",
      "756/756 - 3s - loss: 1.5137 - accuracy: 0.9416 - val_loss: 2.2608 - val_accuracy: 0.9243\n",
      "Epoch 4/10\n",
      "756/756 - 3s - loss: 0.9444 - accuracy: 0.9561 - val_loss: 1.9556 - val_accuracy: 0.9321\n",
      "Epoch 5/10\n",
      "756/756 - 2s - loss: 0.6253 - accuracy: 0.9660 - val_loss: 1.8325 - val_accuracy: 0.9381\n",
      "Epoch 6/10\n",
      "756/756 - 3s - loss: 0.4193 - accuracy: 0.9732 - val_loss: 1.7570 - val_accuracy: 0.9388\n",
      "Epoch 7/10\n",
      "756/756 - 3s - loss: 0.3558 - accuracy: 0.9771 - val_loss: 1.6215 - val_accuracy: 0.9426\n",
      "Epoch 8/10\n",
      "756/756 - 3s - loss: 0.2715 - accuracy: 0.9802 - val_loss: 1.5813 - val_accuracy: 0.9476\n",
      "Epoch 9/10\n",
      "756/756 - 2s - loss: 0.2152 - accuracy: 0.9838 - val_loss: 1.5953 - val_accuracy: 0.9469\n",
      "Epoch 10/10\n",
      "756/756 - 2s - loss: 0.1822 - accuracy: 0.9869 - val_loss: 1.6796 - val_accuracy: 0.9436\n"
     ]
    },
    {
     "data": {
      "text/plain": [
       "<keras.callbacks.History at 0x7fd3061de150>"
      ]
     },
     "execution_count": 9,
     "metadata": {},
     "output_type": "execute_result"
    }
   ],
   "source": [
    "model.fit(x=X, y=y, batch_size=50, validation_split=0.1, epochs=10, shuffle=True, verbose=2)"
   ]
  },
  {
   "cell_type": "markdown",
   "id": "73cf9c4a",
   "metadata": {
    "papermill": {
     "duration": 0.023077,
     "end_time": "2022-01-18T18:10:48.710943",
     "exception": false,
     "start_time": "2022-01-18T18:10:48.687866",
     "status": "completed"
    },
    "tags": []
   },
   "source": [
    "# Predicting testing data"
   ]
  },
  {
   "cell_type": "code",
   "execution_count": 10,
   "id": "fcb55090",
   "metadata": {
    "execution": {
     "iopub.execute_input": "2022-01-18T18:10:48.762188Z",
     "iopub.status.busy": "2022-01-18T18:10:48.761146Z",
     "iopub.status.idle": "2022-01-18T18:10:49.726914Z",
     "shell.execute_reply": "2022-01-18T18:10:49.727520Z",
     "shell.execute_reply.started": "2022-01-18T18:04:34.939558Z"
    },
    "papermill": {
     "duration": 0.99373,
     "end_time": "2022-01-18T18:10:49.727708",
     "exception": false,
     "start_time": "2022-01-18T18:10:48.733978",
     "status": "completed"
    },
    "tags": []
   },
   "outputs": [],
   "source": [
    "test = test.to_numpy()\n",
    "test_prediction = model.predict(x=test, batch_size=100, verbose=0)"
   ]
  },
  {
   "cell_type": "markdown",
   "id": "ce4a6720",
   "metadata": {
    "papermill": {
     "duration": 0.022459,
     "end_time": "2022-01-18T18:10:49.773003",
     "exception": false,
     "start_time": "2022-01-18T18:10:49.750544",
     "status": "completed"
    },
    "tags": []
   },
   "source": [
    "# Argmax "
   ]
  },
  {
   "cell_type": "code",
   "execution_count": 11,
   "id": "b4141f3e",
   "metadata": {
    "execution": {
     "iopub.execute_input": "2022-01-18T18:10:49.823108Z",
     "iopub.status.busy": "2022-01-18T18:10:49.822058Z",
     "iopub.status.idle": "2022-01-18T18:10:49.828223Z",
     "shell.execute_reply": "2022-01-18T18:10:49.827560Z",
     "shell.execute_reply.started": "2022-01-18T18:04:36.353046Z"
    },
    "papermill": {
     "duration": 0.032395,
     "end_time": "2022-01-18T18:10:49.828390",
     "exception": false,
     "start_time": "2022-01-18T18:10:49.795995",
     "status": "completed"
    },
    "tags": []
   },
   "outputs": [],
   "source": [
    "test_prediction = np.argmax(test_prediction, axis=-1)"
   ]
  },
  {
   "cell_type": "markdown",
   "id": "dba103fb",
   "metadata": {
    "papermill": {
     "duration": 0.022705,
     "end_time": "2022-01-18T18:10:49.874232",
     "exception": false,
     "start_time": "2022-01-18T18:10:49.851527",
     "status": "completed"
    },
    "tags": []
   },
   "source": [
    "# Generating labels for submission file"
   ]
  },
  {
   "cell_type": "code",
   "execution_count": 12,
   "id": "f30e8438",
   "metadata": {
    "execution": {
     "iopub.execute_input": "2022-01-18T18:10:49.925742Z",
     "iopub.status.busy": "2022-01-18T18:10:49.924697Z",
     "iopub.status.idle": "2022-01-18T18:10:49.927828Z",
     "shell.execute_reply": "2022-01-18T18:10:49.927239Z",
     "shell.execute_reply.started": "2022-01-18T18:04:36.362164Z"
    },
    "papermill": {
     "duration": 0.030889,
     "end_time": "2022-01-18T18:10:49.927987",
     "exception": false,
     "start_time": "2022-01-18T18:10:49.897098",
     "status": "completed"
    },
    "tags": []
   },
   "outputs": [],
   "source": [
    "test_label = np.arange(start=1, stop=len(test_prediction)+1, step=1)"
   ]
  },
  {
   "cell_type": "markdown",
   "id": "50adec89",
   "metadata": {
    "papermill": {
     "duration": 0.022464,
     "end_time": "2022-01-18T18:10:49.973472",
     "exception": false,
     "start_time": "2022-01-18T18:10:49.951008",
     "status": "completed"
    },
    "tags": []
   },
   "source": [
    "# Generating csv file"
   ]
  },
  {
   "cell_type": "code",
   "execution_count": 13,
   "id": "f7ba2f96",
   "metadata": {
    "execution": {
     "iopub.execute_input": "2022-01-18T18:10:50.026218Z",
     "iopub.status.busy": "2022-01-18T18:10:50.024673Z",
     "iopub.status.idle": "2022-01-18T18:10:50.087363Z",
     "shell.execute_reply": "2022-01-18T18:10:50.086710Z",
     "shell.execute_reply.started": "2022-01-18T18:04:36.383158Z"
    },
    "papermill": {
     "duration": 0.090918,
     "end_time": "2022-01-18T18:10:50.087513",
     "exception": false,
     "start_time": "2022-01-18T18:10:49.996595",
     "status": "completed"
    },
    "tags": []
   },
   "outputs": [],
   "source": [
    "output = pd.DataFrame({'ImageId': test_label, 'Label': test_prediction})\n",
    "output.to_csv('submission.csv', index=False)"
   ]
  }
 ],
 "metadata": {
  "kernelspec": {
   "display_name": "Python 3",
   "language": "python",
   "name": "python3"
  },
  "language_info": {
   "codemirror_mode": {
    "name": "ipython",
    "version": 3
   },
   "file_extension": ".py",
   "mimetype": "text/x-python",
   "name": "python",
   "nbconvert_exporter": "python",
   "pygments_lexer": "ipython3",
   "version": "3.7.12"
  },
  "papermill": {
   "default_parameters": {},
   "duration": 57.826846,
   "end_time": "2022-01-18T18:10:53.535884",
   "environment_variables": {},
   "exception": null,
   "input_path": "__notebook__.ipynb",
   "output_path": "__notebook__.ipynb",
   "parameters": {},
   "start_time": "2022-01-18T18:09:55.709038",
   "version": "2.3.3"
  }
 },
 "nbformat": 4,
 "nbformat_minor": 5
}
