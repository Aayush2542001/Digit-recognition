{
 "cells": [
  {
   "cell_type": "code",
   "execution_count": 1,
   "id": "48576b57",
   "metadata": {
    "_cell_guid": "b1076dfc-b9ad-4769-8c92-a6c4dae69d19",
    "_uuid": "8f2839f25d086af736a60e9eeb907d3b93b6e0e5",
    "execution": {
     "iopub.execute_input": "2022-01-19T17:39:29.421665Z",
     "iopub.status.busy": "2022-01-19T17:39:29.420671Z",
     "iopub.status.idle": "2022-01-19T17:39:36.648002Z",
     "shell.execute_reply": "2022-01-19T17:39:36.646853Z",
     "shell.execute_reply.started": "2022-01-19T17:34:33.123532Z"
    },
    "papermill": {
     "duration": 7.261438,
     "end_time": "2022-01-19T17:39:36.648196",
     "exception": false,
     "start_time": "2022-01-19T17:39:29.386758",
     "status": "completed"
    },
    "tags": []
   },
   "outputs": [],
   "source": [
    "import os\n",
    "import pandas as pd\n",
    "import numpy as np\n",
    "from PIL import Image\n",
    "\n",
    "from sklearn.model_selection import train_test_split\n",
    "from sklearn.metrics import mean_squared_error\n",
    "from sklearn.utils import shuffle\n",
    "\n",
    "import tensorflow as tf\n",
    "from tensorflow import keras\n",
    "from tensorflow.keras.models import Sequential\n",
    "from tensorflow.keras.layers import Activation,Dense\n",
    "from tensorflow.keras.optimizers import Adam\n",
    "from tensorflow.keras.metrics import categorical_crossentropy\n",
    "\n",
    "np.set_printoptions(suppress=True)"
   ]
  },
  {
   "cell_type": "markdown",
   "id": "15b15201",
   "metadata": {
    "papermill": {
     "duration": 0.015888,
     "end_time": "2022-01-19T17:39:36.682950",
     "exception": false,
     "start_time": "2022-01-19T17:39:36.667062",
     "status": "completed"
    },
    "tags": []
   },
   "source": [
    "# Loading data to data-frame"
   ]
  },
  {
   "cell_type": "code",
   "execution_count": 2,
   "id": "93e85b8a",
   "metadata": {
    "execution": {
     "iopub.execute_input": "2022-01-19T17:39:36.722034Z",
     "iopub.status.busy": "2022-01-19T17:39:36.721301Z",
     "iopub.status.idle": "2022-01-19T17:39:42.958167Z",
     "shell.execute_reply": "2022-01-19T17:39:42.957564Z",
     "shell.execute_reply.started": "2022-01-19T17:34:35.562513Z"
    },
    "papermill": {
     "duration": 6.259263,
     "end_time": "2022-01-19T17:39:42.958333",
     "exception": false,
     "start_time": "2022-01-19T17:39:36.699070",
     "status": "completed"
    },
    "tags": []
   },
   "outputs": [],
   "source": [
    "train_folder = '/kaggle/input/digit-recognizer/train.csv'\n",
    "test_folder = '/kaggle/input/digit-recognizer/test.csv'\n",
    "\n",
    "train = pd.read_csv(train_folder)\n",
    "test = pd.read_csv(test_folder)"
   ]
  },
  {
   "cell_type": "markdown",
   "id": "0cd9aa7f",
   "metadata": {
    "papermill": {
     "duration": 0.015944,
     "end_time": "2022-01-19T17:39:42.990489",
     "exception": false,
     "start_time": "2022-01-19T17:39:42.974545",
     "status": "completed"
    },
    "tags": []
   },
   "source": [
    "# Dividing label"
   ]
  },
  {
   "cell_type": "code",
   "execution_count": 3,
   "id": "c4269369",
   "metadata": {
    "execution": {
     "iopub.execute_input": "2022-01-19T17:39:43.033233Z",
     "iopub.status.busy": "2022-01-19T17:39:43.032524Z",
     "iopub.status.idle": "2022-01-19T17:39:43.173015Z",
     "shell.execute_reply": "2022-01-19T17:39:43.172447Z",
     "shell.execute_reply.started": "2022-01-19T17:34:40.369080Z"
    },
    "papermill": {
     "duration": 0.166211,
     "end_time": "2022-01-19T17:39:43.173178",
     "exception": false,
     "start_time": "2022-01-19T17:39:43.006967",
     "status": "completed"
    },
    "tags": []
   },
   "outputs": [],
   "source": [
    "label = train.label\n",
    "train.drop('label', axis=1, inplace=True, errors='ignore')"
   ]
  },
  {
   "cell_type": "markdown",
   "id": "e8db4d67",
   "metadata": {
    "papermill": {
     "duration": 0.016186,
     "end_time": "2022-01-19T17:39:43.206392",
     "exception": false,
     "start_time": "2022-01-19T17:39:43.190206",
     "status": "completed"
    },
    "tags": []
   },
   "source": [
    "# Converting pandas to numpy"
   ]
  },
  {
   "cell_type": "code",
   "execution_count": 4,
   "id": "9ff2d7bd",
   "metadata": {
    "execution": {
     "iopub.execute_input": "2022-01-19T17:39:43.245824Z",
     "iopub.status.busy": "2022-01-19T17:39:43.244857Z",
     "iopub.status.idle": "2022-01-19T17:39:43.247505Z",
     "shell.execute_reply": "2022-01-19T17:39:43.248096Z",
     "shell.execute_reply.started": "2022-01-19T17:34:40.474552Z"
    },
    "papermill": {
     "duration": 0.025408,
     "end_time": "2022-01-19T17:39:43.248275",
     "exception": false,
     "start_time": "2022-01-19T17:39:43.222867",
     "status": "completed"
    },
    "tags": []
   },
   "outputs": [],
   "source": [
    "X = train.to_numpy()\n",
    "y = label.to_numpy()"
   ]
  },
  {
   "cell_type": "markdown",
   "id": "f6f4f9e6",
   "metadata": {
    "papermill": {
     "duration": 0.015897,
     "end_time": "2022-01-19T17:39:43.280629",
     "exception": false,
     "start_time": "2022-01-19T17:39:43.264732",
     "status": "completed"
    },
    "tags": []
   },
   "source": [
    "# Shuffling data"
   ]
  },
  {
   "cell_type": "code",
   "execution_count": 5,
   "id": "1dfdb14d",
   "metadata": {
    "execution": {
     "iopub.execute_input": "2022-01-19T17:39:43.318541Z",
     "iopub.status.busy": "2022-01-19T17:39:43.317864Z",
     "iopub.status.idle": "2022-01-19T17:39:43.721407Z",
     "shell.execute_reply": "2022-01-19T17:39:43.721983Z",
     "shell.execute_reply.started": "2022-01-19T17:34:40.489218Z"
    },
    "papermill": {
     "duration": 0.424126,
     "end_time": "2022-01-19T17:39:43.722208",
     "exception": false,
     "start_time": "2022-01-19T17:39:43.298082",
     "status": "completed"
    },
    "tags": []
   },
   "outputs": [],
   "source": [
    "X, y = shuffle(X, y, random_state=0)"
   ]
  },
  {
   "cell_type": "markdown",
   "id": "0ae4550e",
   "metadata": {
    "papermill": {
     "duration": 0.01624,
     "end_time": "2022-01-19T17:39:43.755651",
     "exception": false,
     "start_time": "2022-01-19T17:39:43.739411",
     "status": "completed"
    },
    "tags": []
   },
   "source": [
    "# Model creation"
   ]
  },
  {
   "cell_type": "code",
   "execution_count": 6,
   "id": "85056287",
   "metadata": {
    "execution": {
     "iopub.execute_input": "2022-01-19T17:39:43.792054Z",
     "iopub.status.busy": "2022-01-19T17:39:43.791333Z",
     "iopub.status.idle": "2022-01-19T17:39:43.939952Z",
     "shell.execute_reply": "2022-01-19T17:39:43.940516Z",
     "shell.execute_reply.started": "2022-01-19T17:34:40.972029Z"
    },
    "papermill": {
     "duration": 0.168645,
     "end_time": "2022-01-19T17:39:43.940723",
     "exception": false,
     "start_time": "2022-01-19T17:39:43.772078",
     "status": "completed"
    },
    "tags": []
   },
   "outputs": [
    {
     "name": "stderr",
     "output_type": "stream",
     "text": [
      "\n",
      "User settings:\n",
      "\n",
      "   KMP_AFFINITY=granularity=fine,verbose,compact,1,0\n",
      "   KMP_BLOCKTIME=0\n",
      "   KMP_DUPLICATE_LIB_OK=True\n",
      "   KMP_INIT_AT_FORK=FALSE\n",
      "   KMP_SETTINGS=1\n",
      "   KMP_WARNINGS=0\n",
      "\n",
      "Effective settings:\n",
      "\n",
      "   KMP_ABORT_DELAY=0\n",
      "   KMP_ADAPTIVE_LOCK_PROPS='1,1024'\n",
      "   KMP_ALIGN_ALLOC=64\n",
      "   KMP_ALL_THREADPRIVATE=128\n",
      "   KMP_ATOMIC_MODE=2\n",
      "   KMP_BLOCKTIME=0\n",
      "   KMP_CPUINFO_FILE: value is not defined\n",
      "   KMP_DETERMINISTIC_REDUCTION=false\n",
      "   KMP_DEVICE_THREAD_LIMIT=2147483647\n",
      "   KMP_DISP_NUM_BUFFERS=7\n",
      "   KMP_DUPLICATE_LIB_OK=true\n",
      "   KMP_ENABLE_TASK_THROTTLING=true\n",
      "   KMP_FORCE_REDUCTION: value is not defined\n",
      "   KMP_FOREIGN_THREADS_THREADPRIVATE=true\n",
      "   KMP_FORKJOIN_BARRIER='2,2'\n",
      "   KMP_FORKJOIN_BARRIER_PATTERN='hyper,hyper'\n",
      "   KMP_GTID_MODE=3\n",
      "   KMP_HANDLE_SIGNALS=false\n",
      "   KMP_HOT_TEAMS_MAX_LEVEL=1\n",
      "   KMP_HOT_TEAMS_MODE=0\n",
      "   KMP_INIT_AT_FORK=true\n",
      "   KMP_LIBRARY=throughput\n",
      "   KMP_LOCK_KIND=queuing\n",
      "   KMP_MALLOC_POOL_INCR=1M\n",
      "   KMP_NUM_LOCKS_IN_BLOCK=1\n",
      "   KMP_PLAIN_BARRIER='2,2'\n",
      "   KMP_PLAIN_BARRIER_PATTERN='hyper,hyper'\n",
      "   KMP_REDUCTION_BARRIER='1,1'\n",
      "   KMP_REDUCTION_BARRIER_PATTERN='hyper,hyper'\n",
      "   KMP_SCHEDULE='static,balanced;guided,iterative'\n",
      "   KMP_SETTINGS=true\n",
      "   KMP_SPIN_BACKOFF_PARAMS='4096,100'\n",
      "   KMP_STACKOFFSET=64\n",
      "   KMP_STACKPAD=0\n",
      "   KMP_STACKSIZE=8M\n",
      "   KMP_STORAGE_MAP=false\n",
      "   KMP_TASKING=2\n",
      "   KMP_TASKLOOP_MIN_TASKS=0\n",
      "   KMP_TASK_STEALING_CONSTRAINT=1\n",
      "   KMP_TEAMS_THREAD_LIMIT=4\n",
      "   KMP_TOPOLOGY_METHOD=all\n",
      "   KMP_USE_YIELD=1\n",
      "   KMP_VERSION=false\n",
      "   KMP_WARNINGS=false\n",
      "   OMP_AFFINITY_FORMAT='OMP: pid %P tid %i thread %n bound to OS proc set {%A}'\n",
      "   OMP_ALLOCATOR=omp_default_mem_alloc\n",
      "   OMP_CANCELLATION=false\n",
      "   OMP_DEFAULT_DEVICE=0\n",
      "   OMP_DISPLAY_AFFINITY=false\n",
      "   OMP_DISPLAY_ENV=false\n",
      "   OMP_DYNAMIC=false\n",
      "   OMP_MAX_ACTIVE_LEVELS=1\n",
      "   OMP_MAX_TASK_PRIORITY=0\n",
      "   OMP_NESTED: deprecated; max-active-levels-var=1\n",
      "   OMP_NUM_THREADS: value is not defined\n",
      "   OMP_PLACES: value is not defined\n",
      "   OMP_PROC_BIND='intel'\n",
      "   OMP_SCHEDULE='static'\n",
      "   OMP_STACKSIZE=8M\n",
      "   OMP_TARGET_OFFLOAD=DEFAULT\n",
      "   OMP_THREAD_LIMIT=2147483647\n",
      "   OMP_WAIT_POLICY=PASSIVE\n",
      "   KMP_AFFINITY='verbose,warnings,respect,granularity=fine,compact,1,0'\n",
      "\n",
      "2022-01-19 17:39:43.842395: I tensorflow/core/common_runtime/process_util.cc:146] Creating new thread pool with default inter op setting: 2. Tune using inter_op_parallelism_threads for best performance.\n"
     ]
    }
   ],
   "source": [
    "model = Sequential(\n",
    "    [\n",
    "        Dense(units=588, input_shape=(784,), activation='relu'),\n",
    "        Dense(units=392, activation='relu'),\n",
    "        Dense(units=98, activation='relu'),\n",
    "        Dense(units=10, activation='softmax')\n",
    "    ]\n",
    ")"
   ]
  },
  {
   "cell_type": "code",
   "execution_count": 7,
   "id": "d1c230b3",
   "metadata": {
    "execution": {
     "iopub.execute_input": "2022-01-19T17:39:43.980969Z",
     "iopub.status.busy": "2022-01-19T17:39:43.979936Z",
     "iopub.status.idle": "2022-01-19T17:39:43.989702Z",
     "shell.execute_reply": "2022-01-19T17:39:43.989077Z",
     "shell.execute_reply.started": "2022-01-19T17:34:41.038317Z"
    },
    "papermill": {
     "duration": 0.031866,
     "end_time": "2022-01-19T17:39:43.989851",
     "exception": false,
     "start_time": "2022-01-19T17:39:43.957985",
     "status": "completed"
    },
    "tags": []
   },
   "outputs": [
    {
     "name": "stdout",
     "output_type": "stream",
     "text": [
      "Model: \"sequential\"\n",
      "_________________________________________________________________\n",
      "Layer (type)                 Output Shape              Param #   \n",
      "=================================================================\n",
      "dense (Dense)                (None, 588)               461580    \n",
      "_________________________________________________________________\n",
      "dense_1 (Dense)              (None, 392)               230888    \n",
      "_________________________________________________________________\n",
      "dense_2 (Dense)              (None, 98)                38514     \n",
      "_________________________________________________________________\n",
      "dense_3 (Dense)              (None, 10)                990       \n",
      "=================================================================\n",
      "Total params: 731,972\n",
      "Trainable params: 731,972\n",
      "Non-trainable params: 0\n",
      "_________________________________________________________________\n"
     ]
    }
   ],
   "source": [
    "model.summary()"
   ]
  },
  {
   "cell_type": "code",
   "execution_count": 8,
   "id": "f0b979b7",
   "metadata": {
    "execution": {
     "iopub.execute_input": "2022-01-19T17:39:44.037120Z",
     "iopub.status.busy": "2022-01-19T17:39:44.036436Z",
     "iopub.status.idle": "2022-01-19T17:39:44.044306Z",
     "shell.execute_reply": "2022-01-19T17:39:44.043713Z",
     "shell.execute_reply.started": "2022-01-19T17:34:41.048779Z"
    },
    "papermill": {
     "duration": 0.036828,
     "end_time": "2022-01-19T17:39:44.044449",
     "exception": false,
     "start_time": "2022-01-19T17:39:44.007621",
     "status": "completed"
    },
    "tags": []
   },
   "outputs": [],
   "source": [
    "model.compile(optimizer=Adam(learning_rate=0.0001), loss='sparse_categorical_crossentropy', metrics=['accuracy'])"
   ]
  },
  {
   "cell_type": "code",
   "execution_count": 9,
   "id": "5d752c09",
   "metadata": {
    "execution": {
     "iopub.execute_input": "2022-01-19T17:39:44.085392Z",
     "iopub.status.busy": "2022-01-19T17:39:44.084565Z",
     "iopub.status.idle": "2022-01-19T17:40:20.364583Z",
     "shell.execute_reply": "2022-01-19T17:40:20.365220Z",
     "shell.execute_reply.started": "2022-01-19T17:34:41.069605Z"
    },
    "papermill": {
     "duration": 36.303786,
     "end_time": "2022-01-19T17:40:20.365467",
     "exception": false,
     "start_time": "2022-01-19T17:39:44.061681",
     "status": "completed"
    },
    "tags": []
   },
   "outputs": [
    {
     "name": "stderr",
     "output_type": "stream",
     "text": [
      "2022-01-19 17:39:44.377973: I tensorflow/compiler/mlir/mlir_graph_optimization_pass.cc:185] None of the MLIR Optimization Passes are enabled (registered 2)\n"
     ]
    },
    {
     "name": "stdout",
     "output_type": "stream",
     "text": [
      "Epoch 1/10\n",
      "420/420 - 4s - loss: 3.3057 - accuracy: 0.8058\n",
      "Epoch 2/10\n",
      "420/420 - 4s - loss: 0.5927 - accuracy: 0.9211\n",
      "Epoch 3/10\n",
      "420/420 - 3s - loss: 0.2784 - accuracy: 0.9529\n",
      "Epoch 4/10\n",
      "420/420 - 4s - loss: 0.1523 - accuracy: 0.9692\n",
      "Epoch 5/10\n",
      "420/420 - 4s - loss: 0.0925 - accuracy: 0.9780\n",
      "Epoch 6/10\n",
      "420/420 - 3s - loss: 0.0595 - accuracy: 0.9838\n",
      "Epoch 7/10\n",
      "420/420 - 3s - loss: 0.0458 - accuracy: 0.9870\n",
      "Epoch 8/10\n",
      "420/420 - 3s - loss: 0.0391 - accuracy: 0.9884\n",
      "Epoch 9/10\n",
      "420/420 - 3s - loss: 0.0276 - accuracy: 0.9917\n",
      "Epoch 10/10\n",
      "420/420 - 3s - loss: 0.0366 - accuracy: 0.9894\n"
     ]
    },
    {
     "data": {
      "text/plain": [
       "<keras.callbacks.History at 0x7fc9569ca390>"
      ]
     },
     "execution_count": 9,
     "metadata": {},
     "output_type": "execute_result"
    }
   ],
   "source": [
    "model.fit(x=X, y=y, batch_size=100, epochs=10, shuffle=False, verbose=2)"
   ]
  },
  {
   "cell_type": "code",
   "execution_count": 10,
   "id": "7e15cea5",
   "metadata": {
    "execution": {
     "iopub.execute_input": "2022-01-19T17:40:20.422231Z",
     "iopub.status.busy": "2022-01-19T17:40:20.420708Z",
     "iopub.status.idle": "2022-01-19T17:41:51.863392Z",
     "shell.execute_reply": "2022-01-19T17:41:51.862750Z",
     "shell.execute_reply.started": "2022-01-19T17:35:13.620910Z"
    },
    "papermill": {
     "duration": 91.473122,
     "end_time": "2022-01-19T17:41:51.863576",
     "exception": false,
     "start_time": "2022-01-19T17:40:20.390454",
     "status": "completed"
    },
    "tags": []
   },
   "outputs": [
    {
     "name": "stdout",
     "output_type": "stream",
     "text": [
      "Epoch 1/10\n",
      "1400/1400 - 11s - loss: 0.3092 - accuracy: 0.9543\n",
      "Epoch 2/10\n",
      "1400/1400 - 10s - loss: 0.1037 - accuracy: 0.9793\n",
      "Epoch 3/10\n",
      "1400/1400 - 9s - loss: 0.0751 - accuracy: 0.9833\n",
      "Epoch 4/10\n",
      "1400/1400 - 9s - loss: 0.0745 - accuracy: 0.9838\n",
      "Epoch 5/10\n",
      "1400/1400 - 9s - loss: 0.0620 - accuracy: 0.9861\n",
      "Epoch 6/10\n",
      "1400/1400 - 8s - loss: 0.0500 - accuracy: 0.9891\n",
      "Epoch 7/10\n",
      "1400/1400 - 9s - loss: 0.0538 - accuracy: 0.9881\n",
      "Epoch 8/10\n",
      "1400/1400 - 9s - loss: 0.0523 - accuracy: 0.9889\n",
      "Epoch 9/10\n",
      "1400/1400 - 9s - loss: 0.0395 - accuracy: 0.9915\n",
      "Epoch 10/10\n",
      "1400/1400 - 9s - loss: 0.0345 - accuracy: 0.9926\n"
     ]
    },
    {
     "data": {
      "text/plain": [
       "<keras.callbacks.History at 0x7fc956bd6910>"
      ]
     },
     "execution_count": 10,
     "metadata": {},
     "output_type": "execute_result"
    }
   ],
   "source": [
    "model.fit(x=X, y=y, batch_size=30, epochs=10, shuffle=False, verbose=2)"
   ]
  },
  {
   "cell_type": "markdown",
   "id": "5ddb76b9",
   "metadata": {
    "papermill": {
     "duration": 0.030076,
     "end_time": "2022-01-19T17:41:51.924820",
     "exception": false,
     "start_time": "2022-01-19T17:41:51.894744",
     "status": "completed"
    },
    "tags": []
   },
   "source": [
    "# Predicting testing data"
   ]
  },
  {
   "cell_type": "code",
   "execution_count": 11,
   "id": "71d94cd3",
   "metadata": {
    "execution": {
     "iopub.execute_input": "2022-01-19T17:41:51.991872Z",
     "iopub.status.busy": "2022-01-19T17:41:51.991222Z",
     "iopub.status.idle": "2022-01-19T17:41:53.381613Z",
     "shell.execute_reply": "2022-01-19T17:41:53.382419Z",
     "shell.execute_reply.started": "2022-01-19T17:36:24.007738Z"
    },
    "papermill": {
     "duration": 1.427528,
     "end_time": "2022-01-19T17:41:53.382651",
     "exception": false,
     "start_time": "2022-01-19T17:41:51.955123",
     "status": "completed"
    },
    "tags": []
   },
   "outputs": [],
   "source": [
    "test = test.to_numpy()\n",
    "test_prediction = model.predict(x=test, batch_size=100, verbose=0)"
   ]
  },
  {
   "cell_type": "markdown",
   "id": "d64251d4",
   "metadata": {
    "papermill": {
     "duration": 0.029653,
     "end_time": "2022-01-19T17:41:53.442759",
     "exception": false,
     "start_time": "2022-01-19T17:41:53.413106",
     "status": "completed"
    },
    "tags": []
   },
   "source": [
    "# Argmax "
   ]
  },
  {
   "cell_type": "code",
   "execution_count": 12,
   "id": "b48cd6fe",
   "metadata": {
    "execution": {
     "iopub.execute_input": "2022-01-19T17:41:53.507372Z",
     "iopub.status.busy": "2022-01-19T17:41:53.506693Z",
     "iopub.status.idle": "2022-01-19T17:41:53.512207Z",
     "shell.execute_reply": "2022-01-19T17:41:53.512761Z",
     "shell.execute_reply.started": "2022-01-19T17:36:25.377949Z"
    },
    "papermill": {
     "duration": 0.039843,
     "end_time": "2022-01-19T17:41:53.512961",
     "exception": false,
     "start_time": "2022-01-19T17:41:53.473118",
     "status": "completed"
    },
    "tags": []
   },
   "outputs": [],
   "source": [
    "test_prediction = np.argmax(test_prediction, axis=-1)"
   ]
  },
  {
   "cell_type": "markdown",
   "id": "204a9fcd",
   "metadata": {
    "papermill": {
     "duration": 0.02948,
     "end_time": "2022-01-19T17:41:53.573773",
     "exception": false,
     "start_time": "2022-01-19T17:41:53.544293",
     "status": "completed"
    },
    "tags": []
   },
   "source": [
    "# Generating labels for submission file"
   ]
  },
  {
   "cell_type": "code",
   "execution_count": 13,
   "id": "09a993d5",
   "metadata": {
    "execution": {
     "iopub.execute_input": "2022-01-19T17:41:53.637394Z",
     "iopub.status.busy": "2022-01-19T17:41:53.636748Z",
     "iopub.status.idle": "2022-01-19T17:41:53.640771Z",
     "shell.execute_reply": "2022-01-19T17:41:53.641359Z",
     "shell.execute_reply.started": "2022-01-19T17:36:25.384653Z"
    },
    "papermill": {
     "duration": 0.037948,
     "end_time": "2022-01-19T17:41:53.641537",
     "exception": false,
     "start_time": "2022-01-19T17:41:53.603589",
     "status": "completed"
    },
    "tags": []
   },
   "outputs": [],
   "source": [
    "test_label = np.arange(start=1, stop=len(test_prediction)+1, step=1)"
   ]
  },
  {
   "cell_type": "markdown",
   "id": "14fcb8ae",
   "metadata": {
    "papermill": {
     "duration": 0.029473,
     "end_time": "2022-01-19T17:41:53.701012",
     "exception": false,
     "start_time": "2022-01-19T17:41:53.671539",
     "status": "completed"
    },
    "tags": []
   },
   "source": [
    "# Generating csv file"
   ]
  },
  {
   "cell_type": "code",
   "execution_count": 14,
   "id": "18edc4fd",
   "metadata": {
    "execution": {
     "iopub.execute_input": "2022-01-19T17:41:53.764404Z",
     "iopub.status.busy": "2022-01-19T17:41:53.763732Z",
     "iopub.status.idle": "2022-01-19T17:41:53.825060Z",
     "shell.execute_reply": "2022-01-19T17:41:53.824252Z",
     "shell.execute_reply.started": "2022-01-19T17:36:25.398616Z"
    },
    "papermill": {
     "duration": 0.094393,
     "end_time": "2022-01-19T17:41:53.825211",
     "exception": false,
     "start_time": "2022-01-19T17:41:53.730818",
     "status": "completed"
    },
    "tags": []
   },
   "outputs": [],
   "source": [
    "output = pd.DataFrame({'ImageId': test_label, 'Label': test_prediction})\n",
    "output.to_csv('submission.csv', index=False)"
   ]
  }
 ],
 "metadata": {
  "kernelspec": {
   "display_name": "Python 3",
   "language": "python",
   "name": "python3"
  },
  "language_info": {
   "codemirror_mode": {
    "name": "ipython",
    "version": 3
   },
   "file_extension": ".py",
   "mimetype": "text/x-python",
   "name": "python",
   "nbconvert_exporter": "python",
   "pygments_lexer": "ipython3",
   "version": "3.7.12"
  },
  "papermill": {
   "default_parameters": {},
   "duration": 157.749475,
   "end_time": "2022-01-19T17:41:56.809252",
   "environment_variables": {},
   "exception": null,
   "input_path": "__notebook__.ipynb",
   "output_path": "__notebook__.ipynb",
   "parameters": {},
   "start_time": "2022-01-19T17:39:19.059777",
   "version": "2.3.3"
  }
 },
 "nbformat": 4,
 "nbformat_minor": 5
}
